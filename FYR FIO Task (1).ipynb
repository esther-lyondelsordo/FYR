{
 "cells": [
  {
   "cell_type": "code",
   "execution_count": 2,
   "metadata": {},
   "outputs": [
    {
     "name": "stdout",
     "output_type": "stream",
     "text": [
      "Welcome to the program.  An excel file has been passed into data frame format, printed below:\n",
      "              Reagent  Final Quantity/well\n",
      "0      Reagent A (uL)             9.666562\n",
      "1      Reagent B (uL)             2.500000\n",
      "2       Reagent C (x)             2.500000\n",
      "3      Reagent D (mM)             0.250000\n",
      "4      Reagent E (mM)             1.250000\n",
      "5       Reagent F (x)             1.250000\n",
      "6      Reagent G (nM)             1.250000\n",
      "7      Reagent H (nM)             0.625000\n",
      "8   Reagent I (mg/mL)             0.125000\n",
      "9    Reagent J (U/uL)             0.500000\n",
      "10   Reagent K (U/uL)             0.083437\n",
      "Here is a plot of the final quantity for each reagent:\n"
     ]
    },
    {
     "data": {
      "image/png": "[encoded data removed]",
      "text/plain": [
       "<Figure size 1440x216 with 1 Axes>"
      ]
     },
     "metadata": {
      "needs_background": "light"
     },
     "output_type": "display_data"
    }
   ],
   "source": [
    "# FYR FIO Task\n",
    "# Due 11:00 am MST, on Wednesday, April 1, 2020\n",
    "# Code by Esther Lyon Delsordo\n",
    "\n",
    "# To allow for input of data, pandas was imported to read in excel file with desired table of reagents and quantities\n",
    "import pandas as pd\n",
    "import matplotlib.pyplot as plt\n",
    "\n",
    "print('Welcome to the program.  An excel file has been passed into data frame format, printed below:')\n",
    "reagents_df = pd.read_excel(\"C:\\\\Users\\\\lyond\\\\PycharmProjects\\\\FYRfioTask\\\\InputReagents.xlsx\")\n",
    "print(reagents_df)\n",
    "\n",
    "# new data can be added to the data frame either by editing the Excel file above,\n",
    "# or by adding new columns with df.assign() and new rows with df.append(), both below:\n",
    "# user_input = input('Would you like to add a new column to the data frame? Enter \"y\" or \"n\":')\n",
    "# while user_input == 'y':\n",
    "#    reagents_df.assign(input('Add a new column to the data frame in the format \"header = contents of new column\":'))\n",
    "#    print(reagents_df)\n",
    "#    user_input = input('Would you like to add a new column to the data frame? Enter \"y\" or \"n\":')\n",
    "# user_input2 = input('Would you like to add a new row to the data frame? Enter \"y\" or \"n\":')\n",
    "# while user_input2 == 'y':\n",
    "#    reagents_df.append(input('Add a new row to the data frame:'))\n",
    "#    print(reagents_df)\n",
    "#    user_input2 = input('Would you like to add a new row to the data frame? Enter \"y\" or \"n\":')\n",
    "\n",
    "# While the data table only has one column of quantities, our graph choices are limited.\n",
    "# I chose to graph the final quantity/well for each reagent\n",
    "# A similar process could be used to graph standard deviations as a function of quantity of reagent A,\n",
    "# if more columns containing such quantities are added to the data frame\n",
    "print('Here is a plot of the final quantity for each reagent:')\n",
    "Reagent = reagents_df['Reagent']\n",
    "final_quantity = reagents_df['Final Quantity/well']\n",
    "fig = plt.figure(figsize=(20, 3))\n",
    "ax = fig.add_subplot(111)\n",
    "ax.scatter(Reagent, final_quantity)\n",
    "\n",
    "plt.xlabel('Reagent')\n",
    "plt.ylabel('Final Quantity/well')\n",
    "plt.title('Final Quantity for Ten Reagents')\n",
    "plt.show()"
   ]
  },
  {
   "cell_type": "code",
   "execution_count": null,
   "metadata": {},
   "outputs": [],
   "source": []
  }
 ],
 "metadata": {
  "kernelspec": {
   "display_name": "Python 3",
   "language": "python",
   "name": "python3"
  },
  "language_info": {
   "codemirror_mode": {
    "name": "ipython",
    "version": 3
   },
   "file_extension": ".py",
   "mimetype": "text/x-python",
   "name": "python",
   "nbconvert_exporter": "python",
   "pygments_lexer": "ipython3",
   "version": "3.7.3"
  }
 },
 "nbformat": 4,
 "nbformat_minor": 2
}
